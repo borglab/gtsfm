{
 "cells": [
  {
   "cell_type": "markdown",
   "id": "2606f39f",
   "metadata": {},
   "source": [
    "# 1. Import required libraries and modules"
   ]
  },
  {
   "cell_type": "markdown",
   "id": "e19d0e12",
   "metadata": {},
   "source": [
    "Import required libraries and modules"
   ]
  },
  {
   "cell_type": "code",
   "execution_count": null,
   "id": "5c33fd26",
   "metadata": {},
   "outputs": [],
   "source": [
    "from pathlib import Path\n",
    "\n",
    "from gtsfm.utils.tree import PreOrderIter\n",
    "import gtsfm.products.scene_tree as scene_tree\n",
    "\n",
    "PALACE = Path(\"../tests/data/palace\")"
   ]
  },
  {
   "cell_type": "markdown",
   "id": "13e2e646",
   "metadata": {},
   "source": [
    "Read COLMAP tree from palace_metis directory"
   ]
  },
  {
   "cell_type": "code",
   "execution_count": 5,
   "id": "ae229199",
   "metadata": {},
   "outputs": [],
   "source": [
    "base_dir = Path(\"../palace_metis\")\n",
    "tree = scene_tree.read_colmap(str(base_dir), \"sparse\")"
   ]
  },
  {
   "cell_type": "markdown",
   "id": "6b2be879",
   "metadata": {},
   "source": [
    "Print all nodes in the tree using PreOrder traversal"
   ]
  },
  {
   "cell_type": "code",
   "execution_count": 6,
   "id": "75dfa7b0",
   "metadata": {},
   "outputs": [
    {
     "name": "stdout",
     "output_type": "stream",
     "text": [
      "(PosixPath('.'), GtsfmData(num_images=11, num_cameras=11, num_tracks=100000))\n",
      "(PosixPath('c_1'), GtsfmData(num_images=55, num_cameras=55, num_tracks=100000))\n",
      "(PosixPath('c_1/c_1_1'), GtsfmData(num_images=38, num_cameras=38, num_tracks=100000))\n",
      "(PosixPath('c_1/c_1_2'), GtsfmData(num_images=21, num_cameras=21, num_tracks=100000))\n",
      "(PosixPath('c_2'), GtsfmData(num_images=52, num_cameras=52, num_tracks=100000))\n",
      "(PosixPath('c_2/c_2_1'), GtsfmData(num_images=34, num_cameras=34, num_tracks=100000))\n",
      "(PosixPath('c_2/c_2_2'), GtsfmData(num_images=35, num_cameras=35, num_tracks=100000))\n",
      "(PosixPath('c_3'), GtsfmData(num_images=52, num_cameras=52, num_tracks=100000))\n",
      "(PosixPath('c_3/c_3_1'), GtsfmData(num_images=50, num_cameras=50, num_tracks=100000))\n",
      "(PosixPath('c_3/c_3_1/c_3_1_1'), GtsfmData(num_images=19, num_cameras=19, num_tracks=100000))\n",
      "(PosixPath('c_3/c_3_1/c_3_1_2'), GtsfmData(num_images=32, num_cameras=32, num_tracks=100000))\n",
      "(PosixPath('c_3/c_3_2'), GtsfmData(num_images=32, num_cameras=32, num_tracks=100000))\n",
      "(PosixPath('c_3/c_3_3'), GtsfmData(num_images=32, num_cameras=32, num_tracks=100000))\n"
     ]
    }
   ],
   "source": [
    "assert tree is not None\n",
    "for node in PreOrderIter(tree):\n",
    "    print(node.value)"
   ]
  },
  {
   "cell_type": "markdown",
   "id": "fa714f61",
   "metadata": {},
   "source": [
    "Downsample the tree to keep a fraction of points"
   ]
  },
  {
   "cell_type": "code",
   "execution_count": null,
   "id": "2b9ee090",
   "metadata": {},
   "outputs": [],
   "source": [
    "seed = 42\n",
    "fraction_points_to_keep = 0.01\n",
    "downsampled_tree = scene_tree.downsample(tree, fraction_points_to_keep=fraction_points_to_keep, seed=seed)"
   ]
  },
  {
   "cell_type": "markdown",
   "id": "c8881f4d",
   "metadata": {},
   "source": [
    "Write the downsampled tree to disk with dummy image data"
   ]
  },
  {
   "cell_type": "code",
   "execution_count": null,
   "id": "68402828",
   "metadata": {},
   "outputs": [],
   "source": [
    "image_filenames = [f\"San_Francisco_{i:04d}.jpg\" for i in range(800, 900)]  # Dummy filenames\n",
    "image_shapes = [(1936, 1296)] * len(image_filenames)  # Dummy shapes\n",
    "scene_tree.write_colmap(downsampled_tree, PALACE, image_shapes=image_shapes, image_filenames=image_filenames)"
   ]
  },
  {
   "cell_type": "markdown",
   "id": "b71c9a1f",
   "metadata": {},
   "source": [
    "Read the downsampled tree from disk"
   ]
  },
  {
   "cell_type": "code",
   "execution_count": 19,
   "id": "924d9a51",
   "metadata": {},
   "outputs": [],
   "source": [
    "read_tree = scene_tree.read_colmap(PALACE, \"ba_output\")"
   ]
  },
  {
   "cell_type": "markdown",
   "id": "68fc7f04",
   "metadata": {},
   "source": [
    "Print all nodes in the downsampled tree using PreOrder traversal"
   ]
  },
  {
   "cell_type": "code",
   "execution_count": 20,
   "id": "8fdbe950",
   "metadata": {},
   "outputs": [
    {
     "name": "stdout",
     "output_type": "stream",
     "text": [
      "(PosixPath('.'), GtsfmData(num_images=11, num_cameras=11, num_tracks=1000))\n",
      "(PosixPath('c_1'), GtsfmData(num_images=55, num_cameras=55, num_tracks=1000))\n",
      "(PosixPath('c_1/c_1_1'), GtsfmData(num_images=38, num_cameras=38, num_tracks=1000))\n",
      "(PosixPath('c_1/c_1_2'), GtsfmData(num_images=21, num_cameras=21, num_tracks=1000))\n",
      "(PosixPath('c_2'), GtsfmData(num_images=52, num_cameras=52, num_tracks=1000))\n",
      "(PosixPath('c_2/c_2_1'), GtsfmData(num_images=34, num_cameras=34, num_tracks=1000))\n",
      "(PosixPath('c_2/c_2_2'), GtsfmData(num_images=35, num_cameras=35, num_tracks=1000))\n",
      "(PosixPath('c_3'), GtsfmData(num_images=52, num_cameras=52, num_tracks=1000))\n",
      "(PosixPath('c_3/c_3_1'), GtsfmData(num_images=50, num_cameras=50, num_tracks=1000))\n",
      "(PosixPath('c_3/c_3_1/c_3_1_1'), GtsfmData(num_images=19, num_cameras=19, num_tracks=1000))\n",
      "(PosixPath('c_3/c_3_1/c_3_1_2'), GtsfmData(num_images=32, num_cameras=32, num_tracks=1000))\n",
      "(PosixPath('c_3/c_3_2'), GtsfmData(num_images=32, num_cameras=32, num_tracks=1000))\n",
      "(PosixPath('c_3/c_3_3'), GtsfmData(num_images=32, num_cameras=32, num_tracks=1000))\n"
     ]
    }
   ],
   "source": [
    "assert read_tree is not None\n",
    "for node in PreOrderIter(read_tree):\n",
    "    print(node.value)"
   ]
  }
 ],
 "metadata": {
  "kernelspec": {
   "display_name": "gtsfm-v1",
   "language": "python",
   "name": "python3"
  },
  "language_info": {
   "codemirror_mode": {
    "name": "ipython",
    "version": 3
   },
   "file_extension": ".py",
   "mimetype": "text/x-python",
   "name": "python",
   "nbconvert_exporter": "python",
   "pygments_lexer": "ipython3",
   "version": "3.10.18"
  }
 },
 "nbformat": 4,
 "nbformat_minor": 5
}
