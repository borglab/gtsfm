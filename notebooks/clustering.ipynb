{
 "cells": [
  {
   "cell_type": "markdown",
   "id": "30f3e5c9",
   "metadata": {},
   "source": [
    "# Clustering with various partitioners"
   ]
  },
  {
   "cell_type": "code",
   "execution_count": null,
   "id": "a845914a",
   "metadata": {},
   "outputs": [],
   "source": [
    "from gtsam import SymbolicBayesTreeClique  # type: ignore\n",
    "\n",
    "from gtsfm.products.cluster_tree import ClusterTree\n",
    "import graphviz\n",
    "\n",
    "import importlib\n",
    "import gtsfm.graph_partitioner.metis_partitioner as mp\n",
    "from gtsfm.graph_partitioner.binary_tree_partitioner import BinaryTreePartitioner\n",
    "\n",
    "mp = importlib.reload(mp)  # assign back!\n",
    "MetisPartitioner = mp.MetisPartitioner"
   ]
  },
  {
   "cell_type": "code",
   "execution_count": null,
   "id": "8e685a6c",
   "metadata": {},
   "outputs": [],
   "source": [
    "chain_edges = [(i,i+1) for i in range(11)]\n",
    "print(\"chain_edges:\", chain_edges)"
   ]
  },
  {
   "cell_type": "code",
   "execution_count": null,
   "id": "fd86c6b3",
   "metadata": {},
   "outputs": [],
   "source": [
    "binary = BinaryTreePartitioner(2)\n",
    "print(binary.run(chain_edges))"
   ]
  },
  {
   "cell_type": "code",
   "execution_count": null,
   "id": "3701fbb4",
   "metadata": {},
   "outputs": [],
   "source": [
    "metis = MetisPartitioner()\n",
    "print(metis.run(chain_edges))"
   ]
  },
  {
   "cell_type": "code",
   "execution_count": null,
   "id": "1b006563",
   "metadata": {},
   "outputs": [],
   "source": [
    "bayes_tree = metis.symbolic_bayes_tree(chain_edges)\n",
    "display(graphviz.Source(bayes_tree.dot()))"
   ]
  }
 ],
 "metadata": {
  "kernelspec": {
   "display_name": "gtsfm-v1",
   "language": "python",
   "name": "python3"
  },
  "language_info": {
   "codemirror_mode": {
    "name": "ipython",
    "version": 3
   },
   "file_extension": ".py",
   "mimetype": "text/x-python",
   "name": "python",
   "nbconvert_exporter": "python",
   "pygments_lexer": "ipython3",
   "version": "3.10.18"
  }
 },
 "nbformat": 4,
 "nbformat_minor": 5
}
