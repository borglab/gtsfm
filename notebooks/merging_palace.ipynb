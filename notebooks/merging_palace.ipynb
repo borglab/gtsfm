{
 "cells": [
  {
   "cell_type": "markdown",
   "id": "e19d0e12",
   "metadata": {},
   "source": [
    "# Do Palace Merging"
   ]
  },
  {
   "cell_type": "code",
   "execution_count": 4,
   "id": "5c33fd26",
   "metadata": {},
   "outputs": [],
   "source": [
    "import pickle\n",
    "from collections import deque\n",
    "from pathlib import Path\n",
    "\n",
    "import graphviz as gv\n",
    "import matplotlib.pyplot as plt\n",
    "import numpy as np\n",
    "import pandas as pd\n",
    "import plotly.graph_objects as go\n",
    "from gtsam import Pose3\n",
    "from typing import Tuple, List, Dict, Any, Optional, Set\n",
    "\n",
    "from gtsfm.graph_partitioner.metis_partitioner import MetisPartitioner\n",
    "from gtsfm.products.visibility_graph import (\n",
    "    VisibilityGraph,\n",
    "    visibility_graph_keys,\n",
    ")\n",
    "from gtsfm.utils.io import load_poses, save_poses\n",
    "from gtsfm.products.cluster_tree import ClusterTree\n",
    "\n",
    "PALACE = Path(\"../tests/data/palace\")"
   ]
  },
  {
   "cell_type": "code",
   "execution_count": 5,
   "id": "6141967e",
   "metadata": {},
   "outputs": [],
   "source": [
    "df = pd.read_csv(PALACE / 'visibility_graph.csv')\n",
    "graph : VisibilityGraph = list(zip(df[\"i\"], df[\"j\"]))"
   ]
  },
  {
   "cell_type": "code",
   "execution_count": 6,
   "id": "75089b8d",
   "metadata": {},
   "outputs": [
    {
     "name": "stdout",
     "output_type": "stream",
     "text": [
      "Number of edges in visibility graph: 4139\n",
      "Number of keys: 281\n"
     ]
    }
   ],
   "source": [
    "print(\"Number of edges in visibility graph:\", len(graph))\n",
    "print(\"Number of keys:\", len(visibility_graph_keys(graph)))"
   ]
  },
  {
   "cell_type": "code",
   "execution_count": 7,
   "id": "475b57d1",
   "metadata": {},
   "outputs": [],
   "source": [
    "partitioner = MetisPartitioner()\n",
    "cluster_tree = partitioner.run(graph)"
   ]
  },
  {
   "cell_type": "code",
   "execution_count": null,
   "id": "d8590362",
   "metadata": {},
   "outputs": [],
   "source": [
    "with open(PALACE / 'cluster_tree.pkl', 'rb') as f:\n",
    "    loaded_cluster_tree = pickle.load(f)\n",
    "print('Loaded cluster_tree from', PALACE / 'cluster_tree.pkl')"
   ]
  },
  {
   "cell_type": "code",
   "execution_count": 8,
   "id": "c8231131",
   "metadata": {},
   "outputs": [
    {
     "data": {
      "text/plain": [
       "Cluster: [65, 66, 67, 68, 144, 145, 248, 249, 277, 279, 280]\n",
       "  Cluster: [204, 225, 226, 227, 228, 229, 230, 231, 232, 233, 234, 235, 236, 237, 238, 239, 240, 241, 242, 243, 244, 245, 246, 247, 248, 249, 250, 251, 252, 253, 254, 255, 256, 257, 258, 259, 260, 261, 262, 263, 264, 265, 266, 267, 268, 269, 270, 271, 272, 273, 274, 275, 276, 277, 279]\n",
       "    Leaf: [202, 203, 204, 205, 206, 207, 208, 209, 210, 211, 212, 213, 214, 215, 216, 217, 218, 219, 220, 221, 222, 223, 224, 225, 226, 227, 228, 229, 230, 231, 232, 233, 234, 235, 236, 237, 238, 239]\n",
       "    Leaf: [248, 261, 262, 263, 264, 265, 266, 267, 268, 269, 270, 271, 272, 273, 274, 275, 276, 277, 278, 279, 280]\n",
       "  Cluster: [147, 148, 149, 150, 151, 152, 153, 154, 155, 156, 157, 158, 159, 160, 161, 162, 163, 164, 165, 166, 167, 168, 169, 170, 171, 172, 173, 174, 175, 176, 177, 178, 179, 180, 181, 182, 183, 184, 185, 186, 187, 188, 189, 190, 191, 192, 193, 194, 195, 196, 197, 206]\n",
       "    Leaf: [183, 184, 185, 186, 187, 188, 189, 190, 191, 192, 193, 194, 195, 196, 197, 198, 199, 200, 201, 202, 203, 204, 205, 206, 207, 208, 209, 210, 211, 212, 213, 214, 215, 216]\n",
       "    Leaf: [127, 128, 129, 130, 131, 132, 133, 134, 135, 136, 137, 138, 139, 140, 141, 142, 143, 144, 145, 146, 147, 148, 149, 150, 151, 152, 153, 154, 155, 156, 157, 158, 159, 160, 161]\n",
       "  Cluster: [73, 74, 75, 76, 77, 78, 79, 80, 81, 82, 83, 84, 85, 86, 87, 88, 89, 90, 91, 92, 93, 94, 95, 96, 97, 98, 99, 100, 101, 102, 103, 104, 105, 106, 107, 108, 109, 110, 111, 112, 113, 114, 115, 116, 117, 118, 119, 120, 121, 122, 123, 124]\n",
       "    Cluster: [4, 5, 6, 7, 8, 9, 10, 11, 12, 13, 14, 15, 16, 17, 18, 19, 20, 21, 22, 23, 24, 25, 26, 27, 28, 29, 30, 31, 32, 33, 34, 35, 36, 37, 38, 39, 40, 41, 42, 43, 44, 45, 46, 47, 48, 49, 50, 51, 52, 53]\n",
       "      Leaf: [0, 1, 2, 3, 4, 5, 6, 7, 8, 9, 10, 11, 12, 13, 14, 15, 16, 17, 18]\n",
       "      Leaf: [39, 40, 41, 42, 43, 44, 45, 46, 47, 48, 49, 50, 51, 52, 53, 54, 55, 56, 57, 58, 59, 60, 61, 62, 63, 64, 65, 66, 67, 68, 69, 70]\n",
       "    Leaf: [56, 57, 58, 59, 60, 61, 62, 63, 64, 65, 66, 67, 68, 69, 70, 71, 72, 73, 74, 75, 76, 77, 78, 79, 80, 81, 82, 83, 84, 85, 86, 87]\n",
       "    Leaf: [110, 111, 112, 113, 114, 115, 116, 117, 118, 119, 120, 121, 122, 123, 124, 125, 126, 127, 128, 129, 130, 131, 132, 133, 134, 135, 136, 137, 138, 139, 140, 141]"
      ]
     },
     "execution_count": 8,
     "metadata": {},
     "output_type": "execute_result"
    }
   ],
   "source": [
    "cluster_tree"
   ]
  }
 ],
 "metadata": {
  "kernelspec": {
   "display_name": "gtsfm-v1",
   "language": "python",
   "name": "python3"
  },
  "language_info": {
   "codemirror_mode": {
    "name": "ipython",
    "version": 3
   },
   "file_extension": ".py",
   "mimetype": "text/x-python",
   "name": "python",
   "nbconvert_exporter": "python",
   "pygments_lexer": "ipython3",
   "version": "3.10.18"
  }
 },
 "nbformat": 4,
 "nbformat_minor": 5
}
