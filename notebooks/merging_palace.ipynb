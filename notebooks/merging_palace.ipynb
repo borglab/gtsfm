{
 "cells": [
  {
   "cell_type": "markdown",
   "id": "e19d0e12",
   "metadata": {},
   "source": [
    "# Do Palace Merging"
   ]
  },
  {
   "cell_type": "code",
   "execution_count": null,
   "id": "5c33fd26",
   "metadata": {},
   "outputs": [],
   "source": [
    "import importlib\n",
    "\n",
    "import pickle\n",
    "from pathlib import Path\n",
    "\n",
    "import pandas as pd\n",
    "\n",
    "from gtsfm.utils.tree import PreOrderIter, PostOrderIter\n",
    "from gtsfm.products.visibility_graph import (VisibilityGraph,\n",
    "                                             visibility_graph_keys)\n",
    "import gtsfm.products.scene_tree as scene_tree\n",
    "importlib.reload(scene_tree)\n",
    "import gtsfm.common.gtsfm_data as gtsfm_data\n",
    "importlib.reload(gtsfm_data)\n",
    "\n",
    "PALACE = Path(\"../tests/data/palace\")"
   ]
  },
  {
   "cell_type": "code",
   "execution_count": null,
   "id": "6141967e",
   "metadata": {},
   "outputs": [],
   "source": [
    "df = pd.read_csv(PALACE / 'visibility_graph.csv')\n",
    "graph : VisibilityGraph = list(zip(df[\"i\"], df[\"j\"]))"
   ]
  },
  {
   "cell_type": "code",
   "execution_count": null,
   "id": "75089b8d",
   "metadata": {},
   "outputs": [],
   "source": [
    "print(\"Number of edges in visibility graph:\", len(graph))\n",
    "print(\"Number of keys:\", len(visibility_graph_keys(graph)))"
   ]
  },
  {
   "cell_type": "code",
   "execution_count": null,
   "id": "d8590362",
   "metadata": {},
   "outputs": [],
   "source": [
    "with open(PALACE / 'cluster_tree.pkl', 'rb') as f:\n",
    "    cluster_tree = pickle.load(f)\n",
    "print('Loaded cluster_tree from', PALACE / 'cluster_tree.pkl')\n",
    "cluster_tree"
   ]
  },
  {
   "cell_type": "code",
   "execution_count": null,
   "id": "ae229199",
   "metadata": {},
   "outputs": [],
   "source": [
    "tree = scene_tree.read_colmap(PALACE, \"ba_output\")"
   ]
  },
  {
   "cell_type": "code",
   "execution_count": null,
   "id": "75dfa7b0",
   "metadata": {},
   "outputs": [],
   "source": [
    "assert tree is not None\n",
    "for node in PostOrderIter(tree):\n",
    "    print(node.value)"
   ]
  }
 ],
 "metadata": {
  "kernelspec": {
   "display_name": "gtsfm-v1",
   "language": "python",
   "name": "python3"
  },
  "language_info": {
   "codemirror_mode": {
    "name": "ipython",
    "version": 3
   },
   "file_extension": ".py",
   "mimetype": "text/x-python",
   "name": "python",
   "nbconvert_exporter": "python",
   "pygments_lexer": "ipython3",
   "version": "3.10.18"
  }
 },
 "nbformat": 4,
 "nbformat_minor": 5
}
