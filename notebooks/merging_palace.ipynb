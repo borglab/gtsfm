{
 "cells": [
  {
   "cell_type": "markdown",
   "id": "e19d0e12",
   "metadata": {},
   "source": [
    "# Do Palace Merging"
   ]
  },
  {
   "cell_type": "code",
   "execution_count": null,
   "id": "5c33fd26",
   "metadata": {},
   "outputs": [],
   "source": [
    "import pickle\n",
    "from collections import deque\n",
    "from pathlib import Path\n",
    "from typing import Any, Dict, List, Optional, Set, Tuple\n",
    "\n",
    "import graphviz as gv\n",
    "import matplotlib.pyplot as plt\n",
    "import numpy as np\n",
    "import pandas as pd\n",
    "import plotly.graph_objects as go\n",
    "from gtsam import Pose3\n",
    "\n",
    "from gtsfm.graph_partitioner.metis_partitioner import MetisPartitioner\n",
    "from gtsfm.products.cluster_tree import ClusterTree\n",
    "from gtsfm.products.visibility_graph import (VisibilityGraph,\n",
    "                                             visibility_graph_keys)\n",
    "from gtsfm.utils.io import load_poses, read_images_txt, save_poses\n",
    "\n",
    "PALACE = Path(\"../tests/data/palace\")"
   ]
  },
  {
   "cell_type": "code",
   "execution_count": null,
   "id": "6141967e",
   "metadata": {},
   "outputs": [],
   "source": [
    "df = pd.read_csv(PALACE / 'visibility_graph.csv')\n",
    "graph : VisibilityGraph = list(zip(df[\"i\"], df[\"j\"]))"
   ]
  },
  {
   "cell_type": "code",
   "execution_count": null,
   "id": "75089b8d",
   "metadata": {},
   "outputs": [],
   "source": [
    "print(\"Number of edges in visibility graph:\", len(graph))\n",
    "print(\"Number of keys:\", len(visibility_graph_keys(graph)))"
   ]
  },
  {
   "cell_type": "code",
   "execution_count": null,
   "id": "475b57d1",
   "metadata": {},
   "outputs": [],
   "source": [
    "partitioner = MetisPartitioner()\n",
    "cluster_tree = partitioner.run(graph)"
   ]
  },
  {
   "cell_type": "code",
   "execution_count": null,
   "id": "d8590362",
   "metadata": {},
   "outputs": [],
   "source": [
    "with open(PALACE / 'cluster_tree.pkl', 'rb') as f:\n",
    "    loaded_cluster_tree = pickle.load(f)\n",
    "print('Loaded cluster_tree from', PALACE / 'cluster_tree.pkl')"
   ]
  },
  {
   "cell_type": "code",
   "execution_count": null,
   "id": "a7e9e0f8",
   "metadata": {},
   "outputs": [],
   "source": [
    "# Load all file names in images path, put them in a sorted list, and create a dictionary from image name to index\n",
    "images_path = Path(\"../benchmarks/palace-fine-arts-281/images\")\n",
    "image_files = sorted([f.name for f in images_path.iterdir() if f.is_file()])\n",
    "image_name_to_index = {name: idx for idx, name in enumerate(image_files)}"
   ]
  },
  {
   "cell_type": "code",
   "execution_count": null,
   "id": "c8231131",
   "metadata": {},
   "outputs": [],
   "source": [
    "cluster_tree"
   ]
  },
  {
   "cell_type": "code",
   "execution_count": null,
   "id": "38efe27f",
   "metadata": {},
   "outputs": [],
   "source": [
    "# Traverse folders, load all colmap images, and print out their image indices, sorted by relative path and only print relative path\n",
    "base_dir = Path(\"../vggt\")\n",
    "images_txt_files = sorted(base_dir.rglob(\"images.txt\"), key=lambda p: str(p.relative_to(base_dir)))\n",
    "for images_txt_path in images_txt_files:\n",
    "    colmap_path = images_txt_path.parent\n",
    "    poses, img_fnames = read_images_txt(str(images_txt_path))\n",
    "    keys = [image_name_to_index[fname] for fname in img_fnames]\n",
    "    print(f\"{images_txt_path.relative_to(base_dir)} ({len(keys)}): {keys}\")"
   ]
  },
  {
   "cell_type": "code",
   "execution_count": null,
   "id": "b773eb96",
   "metadata": {},
   "outputs": [],
   "source": [
    "# Print the number of local keys in each cluster in cluster_tree\n",
    "\n",
    "def print_local_keys(cluster_tree):\n",
    "    def traverse(node, name):\n",
    "        num_keys = len(node.local_keys())\n",
    "        print(f\"{name}: {num_keys} local keys\")\n",
    "        for i, child in enumerate(node.children):\n",
    "            traverse(child, f\"{name}_{i+1}\")\n",
    "    traverse(cluster_tree, \"C\")\n",
    "\n",
    "print_local_keys(loaded_cluster_tree)"
   ]
  },
  {
   "cell_type": "code",
   "execution_count": null,
   "id": "7d8ec361",
   "metadata": {},
   "outputs": [],
   "source": [
    "# Recursively print number of images in the 'images' subfolder for all folders under ../vggt, sorted by relative path, and print image indices from images.txt if present\n",
    "base_dir = Path(\"../vggt\")\n",
    "images_dirs = sorted([p for p in base_dir.rglob(\"images\") if p.is_dir()], key=lambda p: str(p.relative_to(base_dir)))\n",
    "for images_path in images_dirs:\n",
    "    num_images = len([f for f in images_path.iterdir() if f.suffix.lower() in {'.jpg', '.jpeg', '.png'}])\n",
    "    print(f\"{images_path.relative_to(base_dir)}: {num_images} images\")\n",
    "    images_txt_path = images_path.parent / \"images.txt\"\n",
    "    if images_txt_path.exists():\n",
    "        poses, img_fnames = read_images_txt(str(images_txt_path))\n",
    "        print(f\"  {images_txt_path.relative_to(base_dir)}:\")\n",
    "        for idx, fname in enumerate(img_fnames):\n",
    "            print(f\"    Index {idx}: {fname}\")"
   ]
  }
 ],
 "metadata": {
  "kernelspec": {
   "display_name": "gtsfm-v1",
   "language": "python",
   "name": "python3"
  },
  "language_info": {
   "codemirror_mode": {
    "name": "ipython",
    "version": 3
   },
   "file_extension": ".py",
   "mimetype": "text/x-python",
   "name": "python",
   "nbconvert_exporter": "python",
   "pygments_lexer": "ipython3",
   "version": "3.10.18"
  }
 },
 "nbformat": 4,
 "nbformat_minor": 5
}
