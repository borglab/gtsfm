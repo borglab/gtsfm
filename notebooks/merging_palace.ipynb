{
 "cells": [
  {
   "cell_type": "markdown",
   "id": "e19d0e12",
   "metadata": {},
   "source": [
    "# Do Palace Merging"
   ]
  },
  {
   "cell_type": "code",
   "execution_count": null,
   "id": "5c33fd26",
   "metadata": {},
   "outputs": [],
   "source": [
    "import importlib\n",
    "import pickle\n",
    "from pathlib import Path\n",
    "\n",
    "import pandas as pd\n",
    "\n",
    "import gtsfm.products.scene_tree as scene_tree\n",
    "from gtsfm.products.visibility_graph import (VisibilityGraph,\n",
    "                                             visibility_graph_keys)\n",
    "from gtsfm.utils.tree import PostOrderIter\n",
    "\n",
    "importlib.reload(scene_tree)\n",
    "import gtsfm.common.gtsfm_data as gtsfm_data\n",
    "\n",
    "importlib.reload(gtsfm_data)\n",
    "from gtsfm.products.scene_tree import SceneTree\n",
    "\n",
    "PALACE = Path(\"../palace_metis\")\n",
    "TESTS_PALACE = Path(\"../tests/data/palace\")\n",
    "\n",
    "pseudo_color = True\n",
    "down_sample = True"
   ]
  },
  {
   "cell_type": "code",
   "execution_count": null,
   "id": "6141967e",
   "metadata": {},
   "outputs": [],
   "source": [
    "# Just FYI\n",
    "df = pd.read_csv(TESTS_PALACE / 'visibility_graph.csv')\n",
    "graph : VisibilityGraph = list(zip(df[\"i\"], df[\"j\"]))\n",
    "print(\"Number of edges in visibility graph:\", len(graph))\n",
    "print(\"Number of keys:\", len(visibility_graph_keys(graph)))"
   ]
  },
  {
   "cell_type": "code",
   "execution_count": null,
   "id": "d8590362",
   "metadata": {},
   "outputs": [],
   "source": [
    "# Needed for re-ordering\n",
    "with open(TESTS_PALACE / 'cluster_tree.pkl', 'rb') as f:\n",
    "    cluster_tree = pickle.load(f)\n",
    "print('Loaded cluster_tree from', TESTS_PALACE / 'cluster_tree.pkl')\n",
    "cluster_tree"
   ]
  },
  {
   "cell_type": "code",
   "execution_count": null,
   "id": "ae229199",
   "metadata": {},
   "outputs": [],
   "source": [
    "# Big slow read!\n",
    "tree = scene_tree.read_colmap(PALACE, \"sparse\")"
   ]
  },
  {
   "cell_type": "code",
   "execution_count": null,
   "id": "7e204ce9",
   "metadata": {},
   "outputs": [],
   "source": [
    "# Show sizes\n",
    "assert tree is not None\n",
    "for node in PostOrderIter(tree):\n",
    "    print(node.value)\n",
    "    \n",
    "if down_sample:\n",
    "    seed = 42\n",
    "    fraction_points_to_keep = 0.1\n",
    "    tree = scene_tree.downsample(tree, fraction_points_to_keep=fraction_points_to_keep, seed=seed)\n",
    "\n",
    "if pseudo_color:\n",
    "    tree = scene_tree.color_by_cluster(tree)\n",
    "\n",
    "reordered_tree: SceneTree = scene_tree.reorder(tree, cluster_tree)\n",
    "\n",
    "# Given a cluster tree with *local* VGGT results, we want to output a single GtsfmData that is\n",
    "# the merger of all the cluster results.\n",
    "merged_scene = scene_tree.merge(reordered_tree)\n",
    "print(merged_scene)\n",
    "\n",
    "# TODO(frank): these images names and shapes should be real.\n",
    "image_filenames = [f\"San_Francisco_{i:04d}.jpg\" for i in range(281)]  # Dummy filenames\n",
    "image_shapes = [(1936, 1296)] * len(image_filenames)  # Dummy shapes\n",
    "merged_scene.export_as_colmap_text(\n",
    "    Path(\"../tests/data/palace_merged_colmap\") / \"pseudo-10%\",\n",
    "    image_filenames=image_filenames,\n",
    "    image_shapes=image_shapes,\n",
    ")\n"
   ]
  }
 ],
 "metadata": {
  "kernelspec": {
   "display_name": "gtsfm-v1",
   "language": "python",
   "name": "python3"
  },
  "language_info": {
   "codemirror_mode": {
    "name": "ipython",
    "version": 3
   },
   "file_extension": ".py",
   "mimetype": "text/x-python",
   "name": "python",
   "nbconvert_exporter": "python",
   "pygments_lexer": "ipython3",
   "version": "3.10.18"
  }
 },
 "nbformat": 4,
 "nbformat_minor": 5
}
