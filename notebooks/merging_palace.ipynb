{
 "cells": [
  {
   "cell_type": "markdown",
   "id": "e19d0e12",
   "metadata": {},
   "source": [
    "# Do Palace Merging"
   ]
  },
  {
   "cell_type": "code",
   "execution_count": 1,
   "id": "5c33fd26",
   "metadata": {},
   "outputs": [],
   "source": [
    "import pickle\n",
    "from pathlib import Path\n",
    "\n",
    "import pandas as pd\n",
    "\n",
    "from gtsfm.products.visibility_graph import (VisibilityGraph,\n",
    "                                             visibility_graph_keys)\n",
    "import gtsfm.utils.cluster_tree_io as cluster_tree_io\n",
    "\n",
    "PALACE = Path(\"../tests/data/palace\")"
   ]
  },
  {
   "cell_type": "code",
   "execution_count": 2,
   "id": "6141967e",
   "metadata": {},
   "outputs": [],
   "source": [
    "df = pd.read_csv(PALACE / 'visibility_graph.csv')\n",
    "graph : VisibilityGraph = list(zip(df[\"i\"], df[\"j\"]))"
   ]
  },
  {
   "cell_type": "code",
   "execution_count": 3,
   "id": "75089b8d",
   "metadata": {},
   "outputs": [
    {
     "name": "stdout",
     "output_type": "stream",
     "text": [
      "Number of edges in visibility graph: 4139\n",
      "Number of keys: 281\n"
     ]
    }
   ],
   "source": [
    "print(\"Number of edges in visibility graph:\", len(graph))\n",
    "print(\"Number of keys:\", len(visibility_graph_keys(graph)))"
   ]
  },
  {
   "cell_type": "code",
   "execution_count": 4,
   "id": "d8590362",
   "metadata": {},
   "outputs": [
    {
     "name": "stdout",
     "output_type": "stream",
     "text": [
      "Loaded cluster_tree from ../tests/data/palace/cluster_tree.pkl\n"
     ]
    }
   ],
   "source": [
    "with open(PALACE / 'cluster_tree.pkl', 'rb') as f:\n",
    "    loaded_cluster_tree = pickle.load(f)\n",
    "print('Loaded cluster_tree from', PALACE / 'cluster_tree.pkl')"
   ]
  },
  {
   "cell_type": "code",
   "execution_count": 5,
   "id": "ae229199",
   "metadata": {},
   "outputs": [],
   "source": [
    "base_dir = Path(\"../palace_metis\")\n",
    "tree = cluster_tree_io.read_colmap_hierarchy_as_tree(str(base_dir), \"sparse\")"
   ]
  },
  {
   "cell_type": "code",
   "execution_count": 7,
   "id": "75dfa7b0",
   "metadata": {},
   "outputs": [
    {
     "name": "stdout",
     "output_type": "stream",
     "text": [
      "(PosixPath('../palace_metis'), ColmapScene(num_images=11, num_points=100000))\n",
      "(PosixPath('../palace_metis/c_1'), ColmapScene(num_images=55, num_points=100000))\n",
      "(PosixPath('../palace_metis/c_1/c_1_1'), ColmapScene(num_images=38, num_points=100000))\n",
      "(PosixPath('../palace_metis/c_1/c_1_2'), ColmapScene(num_images=21, num_points=100000))\n",
      "(PosixPath('../palace_metis/c_2'), ColmapScene(num_images=52, num_points=100000))\n",
      "(PosixPath('../palace_metis/c_2/c_2_1'), ColmapScene(num_images=34, num_points=100000))\n",
      "(PosixPath('../palace_metis/c_2/c_2_2'), ColmapScene(num_images=35, num_points=100000))\n",
      "(PosixPath('../palace_metis/c_3'), ColmapScene(num_images=52, num_points=100000))\n",
      "(PosixPath('../palace_metis/c_3/c_3_1'), ColmapScene(num_images=50, num_points=100000))\n",
      "(PosixPath('../palace_metis/c_3/c_3_1/c_3_1_1'), ColmapScene(num_images=19, num_points=100000))\n",
      "(PosixPath('../palace_metis/c_3/c_3_1/c_3_1_2'), ColmapScene(num_images=32, num_points=100000))\n",
      "(PosixPath('../palace_metis/c_3/c_3_2'), ColmapScene(num_images=32, num_points=100000))\n",
      "(PosixPath('../palace_metis/c_3/c_3_3'), ColmapScene(num_images=32, num_points=100000))\n"
     ]
    }
   ],
   "source": [
    "assert tree is not None\n",
    "for node in tree:\n",
    "    print(node.value)"
   ]
  },
  {
   "cell_type": "code",
   "execution_count": null,
   "id": "e5fc87d7",
   "metadata": {},
   "outputs": [],
   "source": []
  }
 ],
 "metadata": {
  "kernelspec": {
   "display_name": "gtsfm-v1",
   "language": "python",
   "name": "python3"
  },
  "language_info": {
   "codemirror_mode": {
    "name": "ipython",
    "version": 3
   },
   "file_extension": ".py",
   "mimetype": "text/x-python",
   "name": "python",
   "nbconvert_exporter": "python",
   "pygments_lexer": "ipython3",
   "version": "3.10.18"
  }
 },
 "nbformat": 4,
 "nbformat_minor": 5
}
