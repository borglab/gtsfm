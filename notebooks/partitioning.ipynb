{
 "cells": [
  {
   "cell_type": "markdown",
   "id": "e19d0e12",
   "metadata": {},
   "source": [
    "# Exploring Palace Partitioning"
   ]
  },
  {
   "cell_type": "code",
   "execution_count": null,
   "id": "5c33fd26",
   "metadata": {},
   "outputs": [],
   "source": [
    "import pickle\n",
    "from collections import deque\n",
    "from pathlib import Path\n",
    "\n",
    "import graphviz as gv\n",
    "import matplotlib.pyplot as plt\n",
    "import numpy as np\n",
    "import pandas as pd\n",
    "import plotly.graph_objects as go\n",
    "from gtsam import Pose3\n",
    "from typing import Tuple, List, Dict, Any, Optional, Set\n",
    "\n",
    "from gtsfm.graph_partitioner.metis_partitioner import MetisPartitioner\n",
    "from gtsfm.products.visibility_graph import (\n",
    "    VisibilityGraph,\n",
    "    visibility_graph_keys,\n",
    ")\n",
    "from gtsfm.utils.io import load_poses, save_poses\n",
    "from gtsfm.products.cluster_tree import ClusterTree\n",
    "\n",
    "PALACE = Path(\"../tests/data/palace\")"
   ]
  },
  {
   "cell_type": "markdown",
   "id": "a9b8c7d6",
   "metadata": {},
   "source": [
    "## Common Visualization Functions"
   ]
  },
  {
   "cell_type": "code",
   "execution_count": null,
   "id": "common-functions-cell",
   "metadata": {},
   "outputs": [],
   "source": [
    "def get_edge_coordinates(xy: np.ndarray, edges: np.ndarray) -> Tuple[np.ndarray, np.ndarray]:\n",
    "    \"\"\"Prepare edge coordinates for a Plotly Scatter trace.\"\"\"\n",
    "    if edges.size == 0:\n",
    "        return np.array([]), np.array([])\n",
    "    \n",
    "    xe = np.empty(3 * len(edges))\n",
    "    ye = np.empty(3 * len(edges))\n",
    "    xe[0::3] = xy[edges[:, 0], 0]\n",
    "    ye[0::3] = xy[edges[:, 0], 1]\n",
    "    xe[1::3] = xy[edges[:, 1], 0]\n",
    "    ye[1::3] = xy[edges[:, 1], 1]\n",
    "    xe[2::3] = np.nan  # separator between segments\n",
    "    ye[2::3] = np.nan\n",
    "    return xe, ye\n",
    "\n",
    "def create_base_figure_with_background(xy: np.ndarray, edges_arr: np.ndarray) -> go.Figure:\n",
    "    \"\"\"Creates a Plotly figure with all nodes and edges as a faint background.\"\"\"\n",
    "    fig = go.Figure()\n",
    "    \n",
    "    # --- background: all edges, very faint ---\n",
    "    xe_bg, ye_bg = get_edge_coordinates(xy, edges_arr)\n",
    "    fig.add_trace(go.Scatter(\n",
    "        x=xe_bg, y=ye_bg, mode=\"lines\",\n",
    "        line=dict(width=1, color=\"lightgray\"),\n",
    "        opacity=0.2, hoverinfo=\"none\", showlegend=False\n",
    "    ))\n",
    "    \n",
    "    # --- background: all nodes, very faint ---\n",
    "    fig.add_trace(go.Scatter(\n",
    "        x=xy[:, 0], y=xy[:, 1], mode=\"markers\",\n",
    "        marker=dict(size=3, color=\"lightgray\"),\n",
    "        customdata=np.arange(len(xy)),\n",
    "        hovertemplate=\"node %{customdata}<extra></extra>\",\n",
    "        showlegend=False\n",
    "    ))\n",
    "    \n",
    "    fig.update_layout(\n",
    "        paper_bgcolor=\"white\",\n",
    "        plot_bgcolor=\"white\",\n",
    "        margin=dict(l=0, r=0, t=0, b=0),\n",
    "        xaxis=dict(visible=False),\n",
    "        yaxis=dict(visible=False, scaleanchor=\"x\", scaleratio=1),\n",
    "    )\n",
    "    return fig\n",
    "\n",
    "# --- Helper functions for the interactive cluster hierarchy plot ---\n",
    "\n",
    "def build_cluster_records(root: ClusterTree) -> List[Dict[str, Any]]:\n",
    "    \"\"\"Traverse the cluster tree and create a flat list of records for visualization.\"\"\"\n",
    "    records = []\n",
    "    q = deque([(root, (), None)])  # (node, parent_path_tuple, parent_record_id)\n",
    "    \n",
    "    while q:\n",
    "        node, parent_path, parent_id = q.popleft()\n",
    "        \n",
    "        if parent_id is None:\n",
    "            path = ()\n",
    "        else:\n",
    "            parent_children = records[parent_id][\"node\"]._child_clusters()\n",
    "            idx = list(parent_children).index(node) + 1\n",
    "            path = (*records[parent_id][\"path_tuple\"], idx)\n",
    "            \n",
    "        rid = len(records)\n",
    "        records.append(dict(\n",
    "            id=rid, \n",
    "            node=node, \n",
    "            children=[], \n",
    "            path_tuple=path,\n",
    "            path_str=\"C\" + (\"\" if not path else \"_\" + \"_\".join(map(str, path)))\n",
    "        ))\n",
    "        \n",
    "        if parent_id is not None:\n",
    "            records[parent_id][\"children\"].append(rid)\n",
    "            \n",
    "        for child in node._child_clusters():\n",
    "            q.append((child, path, rid))\n",
    "            \n",
    "    return records\n",
    "\n",
    "def get_subtree_ids(records: List[Dict[str, Any]], start_cid: int) -> Set[int]:\n",
    "    \"\"\"Get all record IDs in the subtree starting from a given cluster ID.\"\"\"\n",
    "    subtree = {start_cid}\n",
    "    q = deque([start_cid])\n",
    "    while q:\n",
    "        u = q.popleft()\n",
    "        children_ids = records[u][\"children\"]\n",
    "        subtree.update(children_ids)\n",
    "        q.extend(children_ids)\n",
    "    return subtree\n"
   ]
  },
  {
   "cell_type": "markdown",
   "id": "b1a2c3d4",
   "metadata": {},
   "source": [
    "## Data Loading and Pre-computation"
   ]
  },
  {
   "cell_type": "code",
   "execution_count": null,
   "id": "ef1e77a7",
   "metadata": {},
   "outputs": [],
   "source": [
    "sim = np.loadtxt(PALACE / \"netvlad_similarity_matrix.txt\", delimiter=\",\")"
   ]
  },
  {
   "cell_type": "code",
   "execution_count": null,
   "id": "8315be50",
   "metadata": {},
   "outputs": [],
   "source": [
    "plt.imshow(np.triu(sim))\n",
    "plt.title(\"Image Similarity Matrix\")\n",
    "plt.show()"
   ]
  },
  {
   "cell_type": "markdown",
   "id": "9479c02b",
   "metadata": {},
   "source": [
    "> TODO: run MegaLoc and show "
   ]
  },
  {
   "cell_type": "code",
   "execution_count": null,
   "id": "6141967e",
   "metadata": {},
   "outputs": [],
   "source": [
    "df = pd.read_csv(PALACE / 'visibility_graph.csv')\n",
    "graph : VisibilityGraph = list(zip(df[\"i\"], df[\"j\"]))"
   ]
  },
  {
   "cell_type": "code",
   "execution_count": null,
   "id": "75089b8d",
   "metadata": {},
   "outputs": [],
   "source": [
    "print(\"Number of edges in visibility graph:\", len(graph))\n",
    "print(\"Number of keys:\", len(visibility_graph_keys(graph)))"
   ]
  },
  {
   "cell_type": "code",
   "execution_count": null,
   "id": "2d7858b3",
   "metadata": {},
   "outputs": [],
   "source": [
    "# Poses were created with this code but then saved in palace/poses.pkl with save_poses in tiny file\n",
    "# colmap_path = Path(\"../results/ba_output\")\n",
    "# poses, img_fnames = read_images_txt(str(colmap_path / \"images.txt\"))\n",
    "# save_poses(poses, PALACE / \"poses.pkl\")\n",
    "poses = load_poses(PALACE / \"poses.pkl\")"
   ]
  },
  {
   "cell_type": "code",
   "execution_count": null,
   "id": "a3b4c5d6",
   "metadata": {},
   "outputs": [],
   "source": [
    "# Extract 2D translations for plotting\n",
    "xy = np.array([p.translation()[:2] for p in poses])\n",
    "N = len(xy)\n",
    "\n",
    "# Ensure all edges in the graph correspond to existing poses\n",
    "edges_arr = np.asarray(graph, dtype=int)\n",
    "valid_mask = (edges_arr[:, 0] < N) & (edges_arr[:, 1] < N)\n",
    "edges_arr = edges_arr[valid_mask]\n"
   ]
  },
  {
   "cell_type": "markdown",
   "id": "e7f8g9h0",
   "metadata": {},
   "source": [
    "## Plot 1: Full Visibility Graph"
   ]
  },
  {
   "cell_type": "code",
   "execution_count": null,
   "id": "479386e6",
   "metadata": {},
   "outputs": [],
   "source": [
    "fig = go.Figure()\n",
    "\n",
    "# --- Add edges ---\n",
    "xe, ye = get_edge_coordinates(xy, edges_arr)\n",
    "fig.add_trace(\n",
    "    go.Scatter(\n",
    "        x=xe, y=ye, mode=\"lines\",\n",
    "        line=dict(width=1, color=\"lightgray\"),\n",
    "        hoverinfo=\"none\", showlegend=False\n",
    "    )\n",
    ")\n",
    "\n",
    "# --- Add poses as markers ---\n",
    "fig.add_trace(go.Scatter(x=xy[:, 0], y=xy[:, 1], mode=\"markers\", marker=dict(size=5)))\n",
    "\n",
    "# --- Finalize layout ---\n",
    "fig.update_layout(\n",
    "    xaxis_title=\"x\",\n",
    "    yaxis_title=\"y\",\n",
    "    yaxis_scaleanchor=\"x\",\n",
    "    yaxis_scaleratio=1,\n",
    "    margin=dict(l=0, r=0, t=0, b=0),\n",
    ")\n",
    "\n",
    "fig.show()"
   ]
  },
  {
   "cell_type": "markdown",
   "id": "i1j2k3l4",
   "metadata": {},
   "source": [
    "## Graph Partitioning with METIS"
   ]
  },
  {
   "cell_type": "code",
   "execution_count": null,
   "id": "d66a4095",
   "metadata": {},
   "outputs": [],
   "source": [
    "partitioner = MetisPartitioner()\n",
    "cluster_tree = partitioner.run(graph)"
   ]
  },
  {
   "cell_type": "code",
   "execution_count": null,
   "id": "eef67f6c",
   "metadata": {},
   "outputs": [],
   "source": [
    "leaves = tuple(cluster_tree.leaves()) if cluster_tree is not None else ()\n",
    "for index, leaf in enumerate(leaves, 1):\n",
    "    keys = leaf.local_keys()\n",
    "    print(f\"Leaf {index} has {len(keys)} keys.\")"
   ]
  },
  {
   "cell_type": "code",
   "execution_count": null,
   "id": "ddad996c",
   "metadata": {},
   "outputs": [],
   "source": [
    "# The __repr__ method in cluster_tree.py has been updated to produce this view\n",
    "cluster_tree"
   ]
  },
  {
   "cell_type": "code",
   "execution_count": null,
   "id": "09b1867d",
   "metadata": {},
   "outputs": [],
   "source": [
    "bayes_tree = partitioner.symbolic_bayes_tree(graph)"
   ]
  },
  {
   "cell_type": "code",
   "execution_count": null,
   "id": "0535564e",
   "metadata": {},
   "outputs": [],
   "source": [
    "# Uncomment to view the symbolic Bayes tree (requires graphviz installation)\n",
    "# gv.Source(bayes_tree.dot())"
   ]
  },
  {
   "cell_type": "markdown",
   "id": "m5n6o7p8",
   "metadata": {},
   "source": [
    "## Plot 2: Visualizing Leaf Clusters"
   ]
  },
  {
   "cell_type": "code",
   "execution_count": null,
   "id": "f2293ffd",
   "metadata": {},
   "outputs": [],
   "source": [
    "fig = create_base_figure_with_background(xy, edges_arr)\n",
    "\n",
    "for idx, leaf in enumerate(leaves, 1):\n",
    "    leaf_name = f\"Leaf {idx}\"\n",
    "    legendgroup = f\"leaf{idx}\"\n",
    "\n",
    "    # Get node indices for the current leaf\n",
    "    nodes = np.array([k for k in leaf.all_keys() if 0 <= k < N], dtype=int)\n",
    "    if nodes.size == 0:\n",
    "        continue\n",
    "\n",
    "    # Get edges within the leaf\n",
    "    mask = np.isin(edges_arr[:, 0], nodes) & np.isin(edges_arr[:, 1], nodes)\n",
    "    leaf_edges = edges_arr[mask]\n",
    "    xe, ye = get_edge_coordinates(xy, leaf_edges)\n",
    "    \n",
    "    # Add leaf edges trace\n",
    "    fig.add_trace(go.Scatter(\n",
    "        x=xe, y=ye, mode=\"lines\",\n",
    "        line=dict(width=1), hoverinfo=\"none\",\n",
    "        name=leaf_name, legendgroup=legendgroup\n",
    "    ))\n",
    "\n",
    "    # Add leaf nodes trace\n",
    "    fig.add_trace(go.Scatter(\n",
    "        x=xy[nodes, 0], y=xy[nodes, 1], mode=\"markers\",\n",
    "        marker=dict(size=6),\n",
    "        name=leaf_name, legendgroup=legendgroup, showlegend=False,\n",
    "        customdata=nodes, hovertemplate=\"node %{customdata}<extra></extra>\"\n",
    "    ))\n",
    "\n",
    "fig.update_layout(\n",
    "    legend=dict(\n",
    "        groupclick=\"togglegroup\", \n",
    "        orientation=\"v\", x=0, xanchor=\"right\", y=1, yanchor=\"top\"\n",
    "    ),\n",
    "    margin=dict(l=0, r=0, t=0, b=0),\n",
    ")\n",
    "\n",
    "fig.show()\n",
    "# fig.write_html(\"visibility_graph_leaves.html\", include_plotlyjs=\"cdn\", full_html=True)"
   ]
  },
  {
   "cell_type": "markdown",
   "id": "q9r0s1t2",
   "metadata": {},
   "source": [
    "## Plot 3: Interactive Cluster Hierarchy Explorer"
   ]
  },
  {
   "cell_type": "code",
   "execution_count": null,
   "id": "0d298c74",
   "metadata": {},
   "outputs": [],
   "source": [
    "# --- 1. Process cluster tree hierarchy ---\n",
    "records = build_cluster_records(cluster_tree)\n",
    "\n",
    "# --- 2. Create base figure ---\n",
    "fig = create_base_figure_with_background(xy, edges_arr)\n",
    "\n",
    "# --- 3. Pre-generate all possible traces (initially invisible) ---\n",
    "trace_indices = []  # Stores (edge_idx, node_local_idx, node_all_idx) for each cluster\n",
    "for rec in records:\n",
    "    node = rec[\"node\"]\n",
    "    k_local = np.array([k for k in node.local_keys() if 0 <= k < N], dtype=int)\n",
    "    k_all = np.array([k for k in node.all_keys() if 0 <= k < N], dtype=int)\n",
    "\n",
    "    # a) Local edges trace\n",
    "    mask = np.isin(edges_arr[:, 0], k_local) & np.isin(edges_arr[:, 1], k_local)\n",
    "    local_edges = edges_arr[mask]\n",
    "    xe, ye = get_edge_coordinates(xy, local_edges)\n",
    "    fig.add_trace(go.Scatter(x=xe, y=ye, mode=\"lines\", line=dict(width=1), hoverinfo=\"none\", visible=False, showlegend=False))\n",
    "    edge_idx = len(fig.data) - 1\n",
    "    \n",
    "    # b) Local nodes trace\n",
    "    fig.add_trace(go.Scatter(x=xy[k_local, 0], y=xy[k_local, 1], mode=\"markers\", marker=dict(size=6),\n",
    "                             customdata=k_local, hovertemplate=\"node %{customdata}<extra></extra>\",\n",
    "                             visible=False, showlegend=False))\n",
    "    node_local_idx = len(fig.data) - 1\n",
    "    \n",
    "    # c) All nodes (in subtree) trace\n",
    "    fig.add_trace(go.Scatter(x=xy[k_all, 0], y=xy[k_all, 1], mode=\"markers\", marker=dict(size=6),\n",
    "                             customdata=k_all, hovertemplate=\"node %{customdata}<extra></extra>\",\n",
    "                             visible=False, showlegend=False))\n",
    "    node_all_idx = len(fig.data) - 1\n",
    "\n",
    "    trace_indices.append((edge_idx, node_local_idx, node_all_idx))\n",
    "\n",
    "# --- 4. Define button logic ---\n",
    "num_base_traces = 2 # (background edges, background nodes)\n",
    "num_traces = len(fig.data)\n",
    "\n",
    "def create_visibility_mask(visible_indices: List[int]) -> List[bool]:\n",
    "    mask = [False] * num_traces\n",
    "    mask[0] = True # Always show background edges\n",
    "    mask[1] = False # Hide background nodes when showing specific clusters\n",
    "    for i in visible_indices:\n",
    "        mask[i] = True\n",
    "    return mask\n",
    "\n",
    "# --- 5. Build dropdown menus ---\n",
    "buttons_subtree = []\n",
    "buttons_local = []\n",
    "\n",
    "for rec in records:\n",
    "    cid = rec[\"id\"]\n",
    "    # Subtree view: show all nodes of the root, and all local edges of descendants\n",
    "    subtree_nodes_to_show = [trace_indices[cid][2]]\n",
    "    subtree_edges_to_show = [trace_indices[i][0] for i in get_subtree_ids(records, cid)]\n",
    "    buttons_subtree.append(dict(label=rec[\"path_str\"], method=\"update\", \n",
    "                              args=[{\"visible\": create_visibility_mask(subtree_nodes_to_show + subtree_edges_to_show)}]))\n",
    "\n",
    "    # Local view: show only local nodes and local edges\n",
    "    local_traces_to_show = [trace_indices[cid][0], trace_indices[cid][1]]\n",
    "    buttons_local.append(dict(label=rec[\"path_str\"], method=\"update\", \n",
    "                            args=[{\"visible\": create_visibility_mask(local_traces_to_show)}]))\n",
    "\n",
    "# --- 6. Update figure layout with menus ---\n",
    "fig.update_layout(\n",
    "    updatemenus=[\n",
    "        dict(type=\"dropdown\", direction=\"down\", x=0.01, y=0.99, xanchor=\"left\", yanchor=\"top\",\n",
    "             buttons=buttons_subtree, showactive=True, active=0, \n",
    "             pad={\"r\": 10, \"t\": 10}, \n",
    "             bgcolor=\"#f0f0f0\", bordercolor=\"Black\", borderwidth=1,\n",
    "             font={\"size\": 11}),\n",
    "        dict(type=\"dropdown\", direction=\"down\", x=0.25, y=0.99, xanchor=\"left\", yanchor=\"top\",\n",
    "             buttons=buttons_local, showactive=True, active=0, \n",
    "             pad={\"r\": 10, \"t\": 10}, \n",
    "             bgcolor=\"#f0f0f0\", bordercolor=\"Black\", borderwidth=1,\n",
    "             font={\"size\": 11}),\n",
    "    ],\n",
    "    annotations=[\n",
    "        dict(text=\"Subtree View:\", x=0.01, y=1.05, xref=\"paper\", yref=\"paper\", align=\"left\", showarrow=False),\n",
    "        dict(text=\"Local View:\", x=0.25, y=1.05, xref=\"paper\", yref=\"paper\", align=\"left\", showarrow=False)\n",
    "    ],\n",
    "    margin=dict(l=0, r=0, t=40, b=0),\n",
    ")\n",
    "\n",
    "# Set initial view to the root cluster's subtree\n",
    "fig.data[trace_indices[0][2]].visible = True # root's 'all_nodes'\n",
    "for i in get_subtree_ids(records, 0):\n",
    "    fig.data[trace_indices[i][0]].visible = True # all local edges\n",
    "\n",
    "fig.show()"
   ]
  }
 ],
 "metadata": {
  "kernelspec": {
   "display_name": "gtsfm-v1",
   "language": "python",
   "name": "python3"
  },
  "language_info": {
   "codemirror_mode": {
    "name": "ipython",
    "version": 3
   },
   "file_extension": ".py",
   "mimetype": "text/x-python",
   "name": "python",
   "nbconvert_exporter": "python",
   "pygments_lexer": "ipython3",
   "version": "3.10.18"
  }
 },
 "nbformat": 4,
 "nbformat_minor": 5
}
