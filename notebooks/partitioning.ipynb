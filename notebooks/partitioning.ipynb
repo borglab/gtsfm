{
 "cells": [
  {
   "cell_type": "markdown",
   "id": "e19d0e12",
   "metadata": {},
   "source": [
    "# Exploring Palace Partitioning"
   ]
  },
  {
   "cell_type": "code",
   "execution_count": null,
   "id": "5c33fd26",
   "metadata": {},
   "outputs": [],
   "source": [
    "import pickle\n",
    "from pathlib import Path\n",
    "\n",
    "import graphviz as gv\n",
    "import matplotlib.pyplot as plt\n",
    "import numpy as np\n",
    "import pandas as pd\n",
    "import plotly.graph_objects as go\n",
    "from gtsam import Pose3\n",
    "\n",
    "from gtsfm.graph_partitioner.metis_partitioner import MetisPartitioner\n",
    "from gtsfm.products.visibility_graph import (VisibilityGraph,\n",
    "                                             visibility_graph_keys)\n",
    "# from gtsfm.utils.io import read_cameras_txt, read_images_txt\n",
    "from gtsfm.utils.io import save_poses, load_poses\n",
    "\n",
    "PALACE = Path(\"../tests/data/palace\")"
   ]
  },
  {
   "cell_type": "code",
   "execution_count": null,
   "id": "0bc8f6af",
   "metadata": {},
   "outputs": [],
   "source": []
  },
  {
   "cell_type": "code",
   "execution_count": null,
   "id": "ef1e77a7",
   "metadata": {},
   "outputs": [],
   "source": [
    "sim = np.loadtxt(PALACE / \"netvlad_similarity_matrix.txt\", delimiter=\",\")"
   ]
  },
  {
   "cell_type": "code",
   "execution_count": null,
   "id": "8315be50",
   "metadata": {},
   "outputs": [],
   "source": [
    "plt.imshow(np.triu(sim))\n",
    "plt.title(\"Image Similarity Matrix\")"
   ]
  },
  {
   "cell_type": "markdown",
   "id": "9479c02b",
   "metadata": {},
   "source": [
    "> TODO: run MegaLoc and show "
   ]
  },
  {
   "cell_type": "code",
   "execution_count": null,
   "id": "6141967e",
   "metadata": {},
   "outputs": [],
   "source": [
    "df = pd.read_csv(PALACE / 'visibility_graph.csv')\n",
    "graph : VisibilityGraph = list(zip(df[\"i\"], df[\"j\"]))"
   ]
  },
  {
   "cell_type": "code",
   "execution_count": null,
   "id": "75089b8d",
   "metadata": {},
   "outputs": [],
   "source": [
    "print(\"Number of edges in visibility graph:\", len(graph))\n",
    "print(\"Number of keys:\", len(visibility_graph_keys(graph)))"
   ]
  },
  {
   "cell_type": "code",
   "execution_count": null,
   "id": "2d7858b3",
   "metadata": {},
   "outputs": [],
   "source": [
    "# Poses were created with this code but then saved in palace/poses.pkl with save_poses in tiny file\n",
    "# colmap_path = Path(\"../results/ba_output\")\n",
    "# poses, img_fnames = read_images_txt(str(colmap_path / \"images.txt\"))\n",
    "# save_poses(poses, PALACE / \"poses.pkl\")\n",
    "poses = load_poses(PALACE / \"poses.pkl\")"
   ]
  },
  {
   "cell_type": "code",
   "execution_count": null,
   "id": "479386e6",
   "metadata": {},
   "outputs": [],
   "source": [
    "xy = np.array([p.translation() for p in poses])\n",
    "\n",
    "# --- Precompute all edge segments at once ---\n",
    "valid_edges = [(i, j) for i, j in graph if i < len(xy) and j < len(xy)]\n",
    "if valid_edges:\n",
    "    edges_arr = np.array(valid_edges)\n",
    "    xe = np.empty(3 * len(edges_arr))\n",
    "    ye = np.empty(3 * len(edges_arr))\n",
    "    xe[0::3] = xy[edges_arr[:, 0], 0]\n",
    "    ye[0::3] = xy[edges_arr[:, 0], 1]\n",
    "    xe[1::3] = xy[edges_arr[:, 1], 0]\n",
    "    ye[1::3] = xy[edges_arr[:, 1], 1]\n",
    "    xe[2::3] = np.nan  # separator between segments\n",
    "    ye[2::3] = np.nan\n",
    "\n",
    "# --- Build figure with edges first (drawn underneath) ---\n",
    "fig = go.Figure()\n",
    "\n",
    "if valid_edges:\n",
    "    fig.add_trace(\n",
    "        go.Scatter(\n",
    "            x=xe,\n",
    "            y=ye,\n",
    "            mode=\"lines\",\n",
    "            line=dict(width=1, color=\"lightgray\"),\n",
    "            hoverinfo=\"none\",\n",
    "            showlegend=False,\n",
    "        )\n",
    "    )\n",
    "\n",
    "# --- Add poses as markers (drawn on top) ---\n",
    "fig.add_trace(go.Scatter(x=xy[:, 0], y=xy[:, 1], mode=\"markers\", marker=dict(size=5)))\n",
    "\n",
    "fig.update_layout(\n",
    "    xaxis_title=\"x\",\n",
    "    yaxis_title=\"y\",\n",
    "    yaxis_scaleanchor=\"x\",\n",
    "    yaxis_scaleratio=1,\n",
    "    margin=dict(l=0, r=0, t=0, b=0),\n",
    ")\n",
    "\n",
    "fig.show()"
   ]
  },
  {
   "cell_type": "code",
   "execution_count": null,
   "id": "d66a4095",
   "metadata": {},
   "outputs": [],
   "source": [
    "partitioner = MetisPartitioner()\n",
    "cluster_tree = partitioner.run(graph)\n"
   ]
  },
  {
   "cell_type": "code",
   "execution_count": null,
   "id": "eef67f6c",
   "metadata": {},
   "outputs": [],
   "source": [
    "leaves = tuple(cluster_tree.leaves()) if cluster_tree is not None else ()\n",
    "for index, leaf in enumerate(leaves, 1):\n",
    "    keys = leaf.local_keys()\n",
    "    print(f\"Leaf {index} has {len(keys)} keys.\")\n",
    "    print(keys)"
   ]
  },
  {
   "cell_type": "code",
   "execution_count": null,
   "id": "ddad996c",
   "metadata": {},
   "outputs": [],
   "source": [
    "cluster_tree"
   ]
  },
  {
   "cell_type": "code",
   "execution_count": null,
   "id": "09b1867d",
   "metadata": {},
   "outputs": [],
   "source": [
    "bayes_tree = partitioner.symbolic_bayes_tree(graph)"
   ]
  },
  {
   "cell_type": "code",
   "execution_count": null,
   "id": "0535564e",
   "metadata": {},
   "outputs": [],
   "source": [
    "# Comment out to see\n",
    "# gv.Source(bayes_tree.dot())"
   ]
  },
  {
   "cell_type": "code",
   "execution_count": null,
   "id": "f2293ffd",
   "metadata": {},
   "outputs": [],
   "source": [
    "xy = np.array([p.translation() for p in poses])\n",
    "N = len(xy)\n",
    "\n",
    "edges_arr = np.asarray(graph, dtype=int)\n",
    "edges_arr = edges_arr[(edges_arr[:,0] < N) & (edges_arr[:,1] < N)]\n",
    "\n",
    "fig = go.Figure()\n",
    "\n",
    "# --- background: all edges, very faint (drawn first, under everything) ---\n",
    "if edges_arr.size:\n",
    "    xe_bg = np.empty(3 * len(edges_arr)); ye_bg = np.empty(3 * len(edges_arr))\n",
    "    xe_bg[0::3] = xy[edges_arr[:,0], 0]; ye_bg[0::3] = xy[edges_arr[:,0], 1]\n",
    "    xe_bg[1::3] = xy[edges_arr[:,1], 0]; ye_bg[1::3] = xy[edges_arr[:,1], 1]\n",
    "    xe_bg[2::3] = np.nan;                ye_bg[2::3] = np.nan\n",
    "    fig.add_trace(go.Scatter(\n",
    "        x=xe_bg, y=ye_bg, mode=\"lines\",\n",
    "        line=dict(width=1, color=\"lightgray\"),\n",
    "        opacity=0.12, hoverinfo=\"none\", showlegend=False\n",
    "    ))\n",
    "\n",
    "fig.add_trace(go.Scatter(\n",
    "    x=xy[:, 0],\n",
    "    y=xy[:, 1],\n",
    "    mode=\"markers\",\n",
    "    marker=dict(size=3, color=\"lightgray\"),\n",
    "    customdata=np.arange(N),\n",
    "    hovertemplate=\"node %{customdata}<extra></extra>\",\n",
    "))\n",
    "\n",
    "# one legend entry toggles both traces in the same group\n",
    "fig.update_layout(legend=dict(groupclick=\"togglegroup\"))\n",
    "\n",
    "for idx, leaf in enumerate(leaves, 1):\n",
    "    leaf_name = f\"Leaf {idx}\"\n",
    "    legendgroup = f\"leaf{idx}\"\n",
    "\n",
    "    # node indices (guarded)\n",
    "    nodes = np.array([k for k in leaf.all_keys() if 0 <= k < N], dtype=int)\n",
    "    if nodes.size == 0:\n",
    "        continue\n",
    "\n",
    "    # edges inside the leaf\n",
    "    if edges_arr.size:\n",
    "        m = np.isin(edges_arr[:,0], nodes) & np.isin(edges_arr[:,1], nodes)\n",
    "        E = edges_arr[m]\n",
    "        if len(E):\n",
    "            xe = np.empty(3 * len(E)); ye = np.empty(3 * len(E))\n",
    "            xe[0::3] = xy[E[:,0], 0]; ye[0::3] = xy[E[:,0], 1]\n",
    "            xe[1::3] = xy[E[:,1], 0]; ye[1::3] = xy[E[:,1], 1]\n",
    "            xe[2::3] = np.nan;        ye[2::3] = np.nan\n",
    "            fig.add_trace(go.Scatter(\n",
    "                x=xe, y=ye, mode=\"lines\",\n",
    "                line=dict(width=1), hoverinfo=\"none\",\n",
    "                name=leaf_name, legendgroup=legendgroup, showlegend=True\n",
    "            ))\n",
    "\n",
    "    fig.add_trace(go.Scatter(\n",
    "        x=xy[nodes, 0],\n",
    "        y=xy[nodes, 1],\n",
    "        mode=\"markers\",\n",
    "        marker=dict(size=6),\n",
    "        name=leaf_name,\n",
    "        legendgroup=legendgroup,\n",
    "        showlegend=False,\n",
    "        customdata=nodes,  # store node IDs\n",
    "        hovertemplate=\"node %{customdata}<extra></extra>\",  # clean tooltip\n",
    "    ))\n",
    "\n",
    "fig.update_layout(\n",
    "    xaxis_title=None,\n",
    "    yaxis_title=None,\n",
    "    xaxis=dict(visible=False),\n",
    "    yaxis=dict(visible=False),\n",
    "    paper_bgcolor=\"white\",\n",
    "    plot_bgcolor=\"white\",\n",
    "    margin=dict(l=0, r=0, t=0, b=0),\n",
    "    legend=dict(orientation=\"v\", x=0, xanchor=\"right\", y=1, yanchor=\"top\"),\n",
    ")\n",
    "\n",
    "# reduce axis padding\n",
    "fig.update_xaxes(automargin=True)\n",
    "fig.update_yaxes(automargin=True)\n",
    "\n",
    "fig.show()"
   ]
  },
  {
   "cell_type": "code",
   "execution_count": null,
   "id": "b6455a85",
   "metadata": {},
   "outputs": [],
   "source": [
    "fig.write_html(\"visibility_graph.html\", include_plotlyjs=\"cdn\", full_html=True)"
   ]
  },
  {
   "cell_type": "code",
   "execution_count": null,
   "id": "8ad4c405",
   "metadata": {},
   "outputs": [],
   "source": [
    "!scp visibility_graph.html dellaert@macbook-pro-6:/Users/dellaert/Downloads"
   ]
  },
  {
   "cell_type": "code",
   "execution_count": null,
   "id": "4ec763f0",
   "metadata": {},
   "outputs": [],
   "source": []
  }
 ],
 "metadata": {
  "kernelspec": {
   "display_name": "gtsfm-v1",
   "language": "python",
   "name": "python3"
  },
  "language_info": {
   "codemirror_mode": {
    "name": "ipython",
    "version": 3
   },
   "file_extension": ".py",
   "mimetype": "text/x-python",
   "name": "python",
   "nbconvert_exporter": "python",
   "pygments_lexer": "ipython3",
   "version": "3.10.19"
  }
 },
 "nbformat": 4,
 "nbformat_minor": 5
}
