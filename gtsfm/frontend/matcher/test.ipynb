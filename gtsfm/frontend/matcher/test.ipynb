{
 "cells": [
  {
   "cell_type": "code",
   "execution_count": 2,
   "metadata": {},
   "outputs": [
    {
     "name": "stdout",
     "output_type": "stream",
     "text": [
      "torch.Size([1, 1, 3, 3])\n",
      "torch.Size([1, 1, 9, 2])\n",
      "tensor([[[[0.2500, 1.0000, 0.7500, 2.0000, 5.0000, 3.0000, 1.7500, 4.0000,\n",
      "           2.2500]]]])\n",
      "torch.Size([1, 1, 1, 9])\n"
     ]
    },
    {
     "name": "stderr",
     "output_type": "stream",
     "text": [
      "/home/tdriver6/anaconda3/envs/gtsfm-v1/lib/python3.8/site-packages/torch/nn/functional.py:4215: UserWarning: Default grid_sample and affine_grid behavior has changed to align_corners=False since 1.3.0. Please specify align_corners=True if the old behavior is desired. See the documentation of grid_sample for details.\n",
      "  warnings.warn(\n"
     ]
    }
   ],
   "source": [
    "import torch\n",
    "import torch.nn.functional as F\n",
    "\n",
    "# Create a dummy input tensor (batch_size, channels, height, width)\n",
    "input = torch.tensor([[[[1., 2., 3.],\n",
    "                        [4., 5., 6.],\n",
    "                        [7., 8., 9.]]]])\n",
    "print(input.shape)\n",
    "\n",
    "# Define a sampling grid\n",
    "# Here, we're creating a simple grid where each point (x, y) corresponds to its coordinates\n",
    "# The grid should be normalized between -1 and 1\n",
    "grid = torch.tensor([[[[-1.0, -1.0],  # Top-left corner\n",
    "                        [ 0.0, -1.0],  # Top-middle\n",
    "                        [ 1.0, -1.0]], # Top-right corner\n",
    "                       [[-1.0,  0.0],  # Center-left\n",
    "                        [ 0.0,  0.0],  # Center-middle (unchanged)\n",
    "                        [ 1.0,  0.0]], # Center-right\n",
    "                       [[-1.0,  1.0],  # Bottom-left corner\n",
    "                        [ 0.0,  1.0],  # Bottom-middle\n",
    "                        [ 1.0,  1.0]]]]) # Bottom-right corner\n",
    "grid = torch.tensor([[-1.0, -1.0],  # Top-left corner\n",
    "                     [ 0.0, -1.0],  # Top-middle\n",
    "                     [ 1.0, -1.0], # Top-right corner\n",
    "                       [-1.0,  0.0],  # Center-left\n",
    "                        [ 0.0,  0.0],  # Center-middle (unchanged)\n",
    "                        [ 1.0,  0.0], # Center-right\n",
    "                       [-1.0,  1.0],  # Bottom-left corner\n",
    "                        [ 0.0,  1.0],  # Bottom-middle\n",
    "                        [ 1.0,  1.0]]) # Bottom-right corner\n",
    "grid = grid[None, None]\n",
    "print(grid.shape)\n",
    "\n",
    "# Apply grid_sample\n",
    "output = F.grid_sample(input, grid)\n",
    "\n",
    "# Print the output\n",
    "print(output)\n",
    "print(output.shape)"
   ]
  }
 ],
 "metadata": {
  "kernelspec": {
   "display_name": "Python 3.8.16 ('gtsfm-v1')",
   "language": "python",
   "name": "python3"
  },
  "language_info": {
   "codemirror_mode": {
    "name": "ipython",
    "version": 3
   },
   "file_extension": ".py",
   "mimetype": "text/x-python",
   "name": "python",
   "nbconvert_exporter": "python",
   "pygments_lexer": "ipython3",
   "version": "3.8.16"
  },
  "orig_nbformat": 4,
  "vscode": {
   "interpreter": {
    "hash": "3116b932223553bf88b5ef266f530a91c63077be7ffb6622dde8aee47d0061e3"
   }
  }
 },
 "nbformat": 4,
 "nbformat_minor": 2
}
